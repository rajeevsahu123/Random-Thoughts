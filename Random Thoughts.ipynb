{
 "cells": [
  {
   "cell_type": "markdown",
   "metadata": {},
   "source": [
    "> - What you believe is, what you have experienced so far?\n",
    "\n",
    "> - Your knowledge base is limited by what you have explored so far.\n",
    "\n",
    "> - Do whatever you want to do, you are the CEO of your life. When you become old, you are only answerable to yourself, nobody else.\n",
    "\n",
    "> - Appreciate what you have, otherwise it won't stay with you.\n",
    "\n",
    "> - The biggest obstacle in your life is your internals; externals don't effect much.\n",
    "\n",
    "> - You can't control everything in your life, but what you can is rest 80-90%.\n",
    "\n",
    "> - People say \"Money can't give happiness\", \"Money gives indirect happiness\". Use it as a tool to add value into your life. \n",
    "\n",
    "> - Purchase/invest it, if it adds value into your life.\n",
    "\n",
    "> - You don't need to know everything in your life. You have very limited time, so stay focus what you are doing.\n",
    "\n",
    "> - You need to have intelligence to create/build wealth and you also need intelligence to choose which one to buy or not.\n",
    "\n",
    "> - Have 5 year, 3 year, 2 year, 1 year, 6 month, 3 month, 1 month plans and all should be in synch. Have some VISION & MISSION. It's OK if you change it at later stage as your knowledge base increases.\n",
    "\n",
    "> - Your CURIOSITY lets you think what else is possible in your life. It makes you keep going ahead.\n",
    "\n",
    "> - Keep learning, otherwise you are DEAD.\n",
    "\n",
    "> - Start with the difficult task in your daily routine because you charged up in the morning.\n",
    "\n",
    "> - Look for solving bigger problems in your life and cut down your decisions in solving smaller problems.\n",
    "\n",
    "> - Don't be selfish for your short term benefit.\n",
    "\n",
    "> - Chew it 32 times, if you want to be slim.\n",
    "\n",
    "> - Cut down the communication, if someone/something is disturbuing you."
   ]
  }
 ],
 "metadata": {
  "kernelspec": {
   "display_name": "Python 3",
   "language": "python",
   "name": "python3"
  },
  "language_info": {
   "codemirror_mode": {
    "name": "ipython",
    "version": 3
   },
   "file_extension": ".py",
   "mimetype": "text/x-python",
   "name": "python",
   "nbconvert_exporter": "python",
   "pygments_lexer": "ipython3",
   "version": "3.6.3"
  }
 },
 "nbformat": 4,
 "nbformat_minor": 2
}
